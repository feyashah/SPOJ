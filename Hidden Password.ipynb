{
 "cells": [
  {
   "cell_type": "code",
   "execution_count": null,
   "metadata": {},
   "outputs": [],
   "source": [
    "# your code goes hereimport binascii\n",
    "nooftests = input()\n",
    "nooftests = int(nooftests)\n",
    "j = 0\n",
    "for j in range(nooftests):\n",
    "    noofstrings = input()\n",
    "    noofstrings = int(noofstrings)\n",
    "    x = input().split(' ')\n",
    "    y = input()\n",
    "    y = list(y)\n",
    "    i = 0\n",
    "    for i in range(noofstrings):\n",
    "        key = list(x[i])\n",
    "        a = []\n",
    "        b = []\n",
    "        k = 0\n",
    "        for k in range(len(key)):\n",
    "            ascii = ord(key[k])\n",
    "            m = '{0:08b}'.format(ascii)\n",
    "            m = list(m)\n",
    "            m.reverse()\n",
    "            a.append(m[k])\n",
    "            b.append(m[(k+3)%6])\n",
    "        a.reverse()\n",
    "        resa = \"\".join(a)\n",
    "        resa = int(resa, 2)\n",
    "        b.reverse()\n",
    "        resb = \"\".join(b)\n",
    "        resb = int(resb, 2)\n",
    "        print(y[resa],end=\"\")\n",
    "        print(y[resb],end=\"\")\n",
    "    print('')\n",
    "    z = input()\n",
    "    \n",
    "\n"
   ]
  }
 ],
 "metadata": {
  "kernelspec": {
   "display_name": "Python 3",
   "language": "python",
   "name": "python3"
  },
  "language_info": {
   "codemirror_mode": {
    "name": "ipython",
    "version": 3
   },
   "file_extension": ".py",
   "mimetype": "text/x-python",
   "name": "python",
   "nbconvert_exporter": "python",
   "pygments_lexer": "ipython3",
   "version": "3.7.1"
  }
 },
 "nbformat": 4,
 "nbformat_minor": 2
}
