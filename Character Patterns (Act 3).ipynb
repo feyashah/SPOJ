{
 "cells": [
  {
   "cell_type": "code",
   "execution_count": null,
   "metadata": {},
   "outputs": [],
   "source": [
    "test = input()\n",
    "test = int(test)\n",
    "i = 0\n",
    "for i in range(test):\n",
    "    m, n = input().split(' ')\n",
    "    m = int(m)\n",
    "    n = int(n)\n",
    "    j = 0\n",
    "    k = 0\n",
    "    z = 0\n",
    "    count = 4\n",
    "    for z in range(m):\n",
    "        for count in range(4+(n-1)*3):\n",
    "            print('*', end=\"\")\n",
    "        for k in range(2):\n",
    "            print('')\n",
    "            print('*', end=\"\")\n",
    "            for j in range(n):\n",
    "                print('..*', end=\"\")\n",
    "        print('')\n",
    "        if(z == m-1):\n",
    "            for count in range(4+(n-1)*3):\n",
    "                print('*', end=\"\")\n",
    "    if( i != test - 1):\n",
    "        print('\\n')"
   ]
  }
 ],
 "metadata": {
  "kernelspec": {
   "display_name": "Python 3",
   "language": "python",
   "name": "python3"
  },
  "language_info": {
   "codemirror_mode": {
    "name": "ipython",
    "version": 3
   },
   "file_extension": ".py",
   "mimetype": "text/x-python",
   "name": "python",
   "nbconvert_exporter": "python",
   "pygments_lexer": "ipython3",
   "version": "3.7.1"
  }
 },
 "nbformat": 4,
 "nbformat_minor": 2
}
